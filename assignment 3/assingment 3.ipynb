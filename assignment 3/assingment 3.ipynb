{
 "cells": [
  {
   "cell_type": "code",
   "execution_count": 19,
   "id": "464b3a15",
   "metadata": {},
   "outputs": [
    {
     "name": "stdout",
     "output_type": "stream",
     "text": [
      "Twinkle, twinkle, little star, \n",
      "\tHow I wonder what you are! \n",
      "\t\tUp above the world so high, \n",
      "\t\tLike a diamond in the sky. \n",
      "Twinkle, twinkle, little star, \n",
      "\tHow I wonder what you are!\n"
     ]
    }
   ],
   "source": [
    "#Q1: Write a Python program to print the following string in a specific format \n",
    "print(\"Twinkle, twinkle, little star, \\n\\tHow I wonder what you are! \\n\\t\\tUp above the world so high, \\n\\t\\tLike a diamond in the sky. \\nTwinkle, twinkle, little star, \\n\\tHow I wonder what you are!\")"
   ]
  },
  {
   "cell_type": "code",
   "execution_count": 4,
   "id": "b065de0e",
   "metadata": {
    "scrolled": true
   },
   "outputs": [
    {
     "name": "stdout",
     "output_type": "stream",
     "text": [
      "Python \n",
      "\t 3.8.8 (default, Apr 13 2021, 15:08:03) [MSC v.1916 64 bit (AMD64)] \n",
      " Version Info\n",
      "\t sys.version_info(major=3, minor=8, micro=8, releaselevel='final', serial=0)\n"
     ]
    }
   ],
   "source": [
    "#Q2: Write a Python program to get the Python version you are using\n",
    "import sys\n",
    "print(\"Python\", \"\\n\\t\", sys.version, \"\\n\", \"Version Info\\n\\t\", sys.version_info);"
   ]
  },
  {
   "cell_type": "code",
   "execution_count": 5,
   "id": "4afc1f68",
   "metadata": {},
   "outputs": [
    {
     "name": "stdout",
     "output_type": "stream",
     "text": [
      "Sun Oct 24 16:55:53 2021\n"
     ]
    }
   ],
   "source": [
    "#Q3: Write a Python program to display the current date and time.\n",
    "import time\n",
    "print(time.ctime())"
   ]
  },
  {
   "cell_type": "code",
   "execution_count": 8,
   "id": "bbdf1ae6",
   "metadata": {},
   "outputs": [
    {
     "name": "stdout",
     "output_type": "stream",
     "text": [
      "Enter the radius of the circle: 11\n",
      "Radius: 11.0\n",
      "Area =  34.5576\n"
     ]
    }
   ],
   "source": [
    "#Q4: Write a Python program which accepts the radius of a circle from the user and compute\n",
    "#the area.\n",
    "r = float(input(\"Enter the radius of the circle: \"))\n",
    "area = 3.1416 *r \n",
    "print(\"Radius:\", r)\n",
    "print(\"Area = \", area)"
   ]
  },
  {
   "cell_type": "code",
   "execution_count": 10,
   "id": "8638bb06",
   "metadata": {},
   "outputs": [
    {
     "name": "stdout",
     "output_type": "stream",
     "text": [
      "enter your first name: Muhammad \n",
      "enter your last name: Haris\n",
      "Haris Muhammad \n"
     ]
    }
   ],
   "source": [
    "#Q5. Write a Python program which accepts the user's first and last name and print them in\n",
    "#reverse order with a space between them.\n",
    "first_name = input(\"enter your first name: \")\n",
    "last_name = input(\"enter your last name: \")\n",
    "print(last_name,first_name)"
   ]
  },
  {
   "cell_type": "code",
   "execution_count": 11,
   "id": "ec5282b3",
   "metadata": {},
   "outputs": [
    {
     "name": "stdout",
     "output_type": "stream",
     "text": [
      "enter first number: 2\n",
      "enter second number: 2\n",
      "sum: 4\n"
     ]
    }
   ],
   "source": [
    "#Q6: Write a python program which takes two inputs from user and print them addition\n",
    "a = int(input(\"enter first number: \"))\n",
    "b = int(input(\"enter second number: \"))\n",
    "sum = a + b;\n",
    "print(\"sum:\", sum)"
   ]
  },
  {
   "cell_type": "code",
   "execution_count": 13,
   "id": "7d85bcf4",
   "metadata": {},
   "outputs": [
    {
     "name": "stdout",
     "output_type": "stream",
     "text": [
      "Enter marks of the first subject: 60\n",
      "Enter marks of the second subject: 60\n",
      "Enter marks of the third subject: 60\n",
      "Enter marks of the fourth subject: 60\n",
      "Enter marks of the fifth subject: 60\n",
      "300\n",
      "60.0\n",
      "Grade B\n"
     ]
    }
   ],
   "source": [
    "#Q7: Write a program which takes 5 inputs from user for different subject’s marks, total it.\n",
    "#and generate mark sheet using grades\n",
    "sub1=int(input(\"Enter marks of the first subject: \"))\n",
    "sub2=int(input(\"Enter marks of the second subject: \"))\n",
    "sub3=int(input(\"Enter marks of the third subject: \"))\n",
    "sub4=int(input(\"Enter marks of the fourth subject: \"))\n",
    "sub5=int(input(\"Enter marks of the fifth subject: \"))\n",
    "marks = sub1+sub2+sub3+sub4+sub4;          #total marks\n",
    "print(marks);\n",
    "percent = marks/500*100;        #percentage formula\n",
    "print(percent);\n",
    "if percent < 100 and percent>= 80:    #conditions for grads \n",
    " print(\"Grade A+\");\n",
    "elif percent < 80 and percent >= 70:\n",
    " print(\"Grade A\");\n",
    "elif percent < 70 and percent >= 60:\n",
    " print(\"Grade B\");\n",
    "elif percent< 60 and percent >= 50:\n",
    "  print(\"Grade C\");\n",
    "elif percent < 50 and percent>= 40:\n",
    " print(\"Grade D\");\n",
    "elif percent < 40 and percent >= 0:\n",
    " print(\"Grade F\");\n",
    "elif percent >100:\n",
    " print(\"plz put a valid input between 1 to 100 THANKS \");\n",
    "elif percent < -1:\n",
    " print(\" invalid input \");"
   ]
  },
  {
   "cell_type": "code",
   "execution_count": 14,
   "id": "26bf29f1",
   "metadata": {},
   "outputs": [
    {
     "name": "stdout",
     "output_type": "stream",
     "text": [
      "Enter a number: 2\n",
      "This is an even number.\n"
     ]
    }
   ],
   "source": [
    "#Q8: Write a program which take input from user and identify that the given number is even\n",
    "#or odd?\n",
    "num = int(input(\"Enter a number: \"))\n",
    "mod = num % 2\n",
    "if mod > 0:\n",
    "    print(\"This is an odd number.\")\n",
    "else:\n",
    "    print(\"This is an even number.\")"
   ]
  },
  {
   "cell_type": "code",
   "execution_count": 15,
   "id": "822ba0b2",
   "metadata": {},
   "outputs": [
    {
     "name": "stdout",
     "output_type": "stream",
     "text": [
      "The length of the list [11, 22, 33, 44, 55, 66] is : 6\n"
     ]
    }
   ],
   "source": [
    "# Q9: Write a program which print the length of the list?\n",
    "l=[11,22,33,44,55,66]\n",
    "print(\"The length of the list\",l, \"is :\",len(l))"
   ]
  },
  {
   "cell_type": "code",
   "execution_count": 20,
   "id": "4d13036c",
   "metadata": {},
   "outputs": [
    {
     "name": "stdout",
     "output_type": "stream",
     "text": [
      "-5\n"
     ]
    }
   ],
   "source": [
    "#Q10: Write a Python program to sum all the numeric items in a list? \n",
    "def sum_list(items):\n",
    "    sum_numbers = 0\n",
    "    for x in items:\n",
    "        sum_numbers += x\n",
    "    return sum_numbers\n",
    "print(sum_list([1,2,-8]))"
   ]
  },
  {
   "cell_type": "code",
   "execution_count": 18,
   "id": "cc5da4fd",
   "metadata": {},
   "outputs": [
    {
     "name": "stdout",
     "output_type": "stream",
     "text": [
      "2\n"
     ]
    }
   ],
   "source": [
    "#Q11: Write a Python program to get the largest number from a numeric list\n",
    "def max_num_in_list( list ):\n",
    "    max = list[ 0 ]\n",
    "    for a in list:\n",
    "        if a > max:\n",
    "            max = a\n",
    "    return max\n",
    "print(max_num_in_list([1, 2, -8, 0]))"
   ]
  },
  {
   "cell_type": "code",
   "execution_count": 22,
   "id": "a961076f",
   "metadata": {},
   "outputs": [
    {
     "name": "stdout",
     "output_type": "stream",
     "text": [
      "[1, 1, 2, 3]\n"
     ]
    }
   ],
   "source": [
    "#Q12: Write a program that prints out all the elements of the list that are less than 5.\n",
    "def elements_lessthan_five(l): \n",
    "    l1=[] \n",
    "    for i in l: \n",
    "        if i<5: \n",
    "            l1.append(i) \n",
    "             \n",
    "    return(l1) \n",
    "     \n",
    "print(elements_lessthan_five([1, 1, 2, 3, 5, 8, 13, 21, 34, 55, 89]))"
   ]
  },
  {
   "cell_type": "code",
   "execution_count": null,
   "id": "64c390f5",
   "metadata": {},
   "outputs": [],
   "source": []
  }
 ],
 "metadata": {
  "kernelspec": {
   "display_name": "Python 3",
   "language": "python",
   "name": "python3"
  },
  "language_info": {
   "codemirror_mode": {
    "name": "ipython",
    "version": 3
   },
   "file_extension": ".py",
   "mimetype": "text/x-python",
   "name": "python",
   "nbconvert_exporter": "python",
   "pygments_lexer": "ipython3",
   "version": "3.8.8"
  }
 },
 "nbformat": 4,
 "nbformat_minor": 5
}
